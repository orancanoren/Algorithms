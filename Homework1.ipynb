{
 "cells": [
  {
   "cell_type": "code",
   "execution_count": 1,
   "metadata": {
    "collapsed": true
   },
   "outputs": [],
   "source": [
    "import collections\n",
    "import math\n",
    "import string"
   ]
  },
  {
   "cell_type": "code",
   "execution_count": 2,
   "metadata": {
    "collapsed": true
   },
   "outputs": [],
   "source": [
    "encoding_table = { \n",
    "    'A' : 0, 'B' : 1, 'C' : 2, 'D' : 3, 'E' : 4, 'F' : 5, 'G' : 6, 'H' : 7, 'I' : 8, 'J' : 9, 'K' : 10,\n",
    "    'L' : 11, 'M' : 12, 'N' : 13, 'O' : 14, 'P' : 15, 'Q' : 16, 'R' : 17, 'S' : 18, 'T' : 19, 'U' : 20,\n",
    "    'V' : 21, 'W' : 22, 'X' : 23, 'Y' : 24, 'Z' : 25\n",
    "    }"
   ]
  },
  {
   "cell_type": "markdown",
   "metadata": {},
   "source": [
    "<b>QUESTION 1</b>"
   ]
  },
  {
   "cell_type": "code",
   "execution_count": 3,
   "metadata": {
    "collapsed": true
   },
   "outputs": [],
   "source": [
    "def caesar_bruteforce(ciphertext):\n",
    "    # Assuming the encoding is in Z_26\n",
    "    for k in range(26):\n",
    "        shifted_string = \"\"\n",
    "        for c_i in ciphertext:\n",
    "            shifted_string += chr(((encoding_table[c_i] + k) % 26) + 65)\n",
    "        print(shifted_string)"
   ]
  },
  {
   "cell_type": "code",
   "execution_count": 4,
   "metadata": {},
   "outputs": [
    {
     "name": "stdout",
     "output_type": "stream",
     "text": [
      "XJGY\n",
      "YKHZ\n",
      "ZLIA\n",
      "AMJB\n",
      "BNKC\n",
      "COLD\n",
      "DPME\n",
      "EQNF\n",
      "FROG\n",
      "GSPH\n",
      "HTQI\n",
      "IURJ\n",
      "JVSK\n",
      "KWTL\n",
      "LXUM\n",
      "MYVN\n",
      "NZWO\n",
      "OAXP\n",
      "PBYQ\n",
      "QCZR\n",
      "RDAS\n",
      "SEBT\n",
      "TFCU\n",
      "UGDV\n",
      "VHEW\n",
      "WIFX\n"
     ]
    }
   ],
   "source": [
    "caesar_bruteforce(\"XJGY\")"
   ]
  },
  {
   "cell_type": "markdown",
   "metadata": {},
   "source": [
    "Notice <b>FROG</b> and <b>COLD</b>"
   ]
  },
  {
   "cell_type": "markdown",
   "metadata": {},
   "source": [
    "<b>QUESTION 3</b>"
   ]
  },
  {
   "cell_type": "code",
   "execution_count": 5,
   "metadata": {},
   "outputs": [
    {
     "name": "stdout",
     "output_type": "stream",
     "text": [
      "[(' ', 5), ('R', 4)]\n"
     ]
    }
   ],
   "source": [
    "s = \"HR JNAF ERRBH HR STYYSD YTJD\"\n",
    "ctr = collections.Counter(s)\n",
    "print(ctr.most_common(2))"
   ]
  },
  {
   "cell_type": "code",
   "execution_count": 6,
   "metadata": {
    "collapsed": true
   },
   "outputs": [],
   "source": [
    "def multiplicative_inverse(x, m = 26):\n",
    "    for i in range(26):\n",
    "        if x * i % 26 == 1:\n",
    "            return i\n",
    "    return -1 #  multiplicative inverse doesn't exist"
   ]
  },
  {
   "cell_type": "code",
   "execution_count": 7,
   "metadata": {
    "collapsed": true
   },
   "outputs": [],
   "source": [
    "def decrypt_affine(ciphertext, a_inv, b):\n",
    "    if a_inv == -1:\n",
    "        print('Invalid a')\n",
    "    \n",
    "    decrypted_string = \"\"\n",
    "    for c_i in ciphertext:\n",
    "        if ord(c_i) >= 65 and ord(c_i) <= 90:\n",
    "            decrypted_string += chr(((a_inv * encoding_table[c_i] - a_inv * b) % 26) + 65)\n",
    "        else:\n",
    "            decrypted_string += ' '\n",
    "    return decrypted_string"
   ]
  },
  {
   "cell_type": "code",
   "execution_count": 8,
   "metadata": {
    "collapsed": true
   },
   "outputs": [],
   "source": [
    "def attack_affine(ciphertext):\n",
    "    for a in range(26):\n",
    "        a_inv = multiplicative_inverse(a)\n",
    "        if a_inv != -1:\n",
    "            for b in range(26):\n",
    "                candidate = decrypt_affine(ciphertext, a_inv, b)\n",
    "                ctr = collections.Counter(candidate)\n",
    "                if ctr.most_common(2)[1][0] == 'O':\n",
    "                    print(candidate)"
   ]
  },
  {
   "cell_type": "code",
   "execution_count": 9,
   "metadata": {},
   "outputs": [
    {
     "name": "stdout",
     "output_type": "stream",
     "text": [
      "EO GKXC BOOYE EO PQVVPA VQGA\n",
      "CO UERK BOOAC CO XGZZXS ZGUS\n",
      "MO CIVW BOOQM MO JEFFJG FECG\n",
      "UO YGTQ BOOIU UO DSPPDM PSYM\n",
      "KO QCPE BOOSK KO RUJJRY JUQY\n",
      "GO SQDU BOOWG GO HARRHI RASI\n",
      "WO KMZI BOOGW WO VCLLVU LCKU\n",
      "SO MANY BOOKS SO LITTLE TIME\n",
      "IO EWJM BOOUI IO ZKNNZQ NKEQ\n",
      "QO AUHG BOOMQ QO TYXXTW XYAW\n",
      "AO IYLS BOOCA AO FWDDFK DWIK\n",
      "YO WSFA BOOEY YO NMHHNC HMWC\n"
     ]
    }
   ],
   "source": [
    "attack_affine(\"HR JNAF ERRBH HR STYYSD YTJD\")"
   ]
  },
  {
   "cell_type": "markdown",
   "metadata": {},
   "source": [
    "<b>QUESTION 6</b>"
   ]
  },
  {
   "cell_type": "code",
   "execution_count": 10,
   "metadata": {
    "collapsed": true
   },
   "outputs": [],
   "source": [
    "def decrypt_vigenere(ciphertext, key):\n",
    "    key_iter = 0\n",
    "    decrypted_string = \"\"\n",
    "    for c_i in ciphertext:\n",
    "        if c_i in encoding_table.keys():\n",
    "            decrypted_string += chr(((encoding_table[c_i] - encoding_table[key[key_iter]]) % 26) + 65)\n",
    "            key_iter = (key_iter + 1) % len(key)\n",
    "        else:\n",
    "            decrypted_string += c_i\n",
    "    return decrypted_string"
   ]
  },
  {
   "cell_type": "code",
   "execution_count": 11,
   "metadata": {},
   "outputs": [
    {
     "name": "stdout",
     "output_type": "stream",
     "text": [
      "EVER TRIED EVER FAILED NO MATTER TRY AGAIN FAIL AGAIN FAIL BETTER\n"
     ]
    }
   ],
   "source": [
    "print(decrypt_vigenere(\"WZWR FVAIV EHIJ JSIXIV RG MMXLIJ TDC SKSIZ JSMD ASEAR XAUP TILTQV\", \"SESAME\"))"
   ]
  },
  {
   "cell_type": "markdown",
   "metadata": {},
   "source": [
    "<b>QUESTION 7</b>"
   ]
  },
  {
   "cell_type": "code",
   "execution_count": 12,
   "metadata": {
    "collapsed": true
   },
   "outputs": [],
   "source": [
    "ciphertext = \"\"\"OPAKM IGWPK BTWAQ SZQ A BTAVW A SZGE.\n",
    "TAA TGCEW QE AV FZM HATXSOQ, LPAMOT;\n",
    "ZM IATX FWF KMQ EM ELWBHQZY PQJM\n",
    "FG EMLKT ZQE OWAVA RATX MX IABT KVAO.\n",
    "\n",
    "UK DQFLTQ ZWDKM YMAF LPUFS UL YGWMD\n",
    "LW ELWB OQFZWGL I RSZYZWGKM ZWID\n",
    "TMFOMQF BTW EAGLE SVP XZARMZ DIWW\n",
    "BTW LMJSQKB QNMZAVS GN FZM KWID.\n",
    "\n",
    "ZM SADQK PUK PMJVQKA NWTXK I EZIWW\n",
    "BA SAW AN FZMDW QE KWYW UUKBMCM.\n",
    "FZM AFTK GBTWZ EGCZV'A FZM EOMQH\n",
    "WR WIEQ EUFL MFL PGEZQ NXSSQ.\n",
    "\n",
    "LPQ OWAVA MJM XGDQDG, PSZW SVP VMQH,\n",
    "JGL Q TSDQ HZAEQEWA FG SQWX,\n",
    "MFL YATQK BA YW NWNAJM U KTQWX,\n",
    "MFL YATQK BA YW NWNAJM U KTQWX.\"\"\""
   ]
  },
  {
   "cell_type": "code",
   "execution_count": 13,
   "metadata": {
    "collapsed": true
   },
   "outputs": [],
   "source": [
    "def isPrime(x):\n",
    "    sq = math.sqrt(x)\n",
    "    if x % 2 == 0 and x != 2:\n",
    "        return False\n",
    "    for i in range(2, math.ceil(sq)):\n",
    "        if x % i == 0:\n",
    "            return False\n",
    "    return True"
   ]
  },
  {
   "cell_type": "code",
   "execution_count": 14,
   "metadata": {
    "collapsed": true
   },
   "outputs": [],
   "source": [
    "def totient(x):\n",
    "    product = 1\n",
    "    sq = math.ceil(math.sqrt(x))\n",
    "    for i in range(2, x):\n",
    "        if x % i == 0 and isPrime(i):\n",
    "            temp = 1 - (1/i)\n",
    "            print('prime: ', i, ' temp: ', temp)\n",
    "            product *= temp\n",
    "    return int(x * product)"
   ]
  },
  {
   "cell_type": "code",
   "execution_count": 15,
   "metadata": {},
   "outputs": [
    {
     "name": "stdout",
     "output_type": "stream",
     "text": [
      "prime:  2  temp:  0.5\n",
      "prime:  13  temp:  0.9230769230769231\n",
      "prime:  169  temp:  0.9940828402366864\n"
     ]
    },
    {
     "data": {
      "text/plain": [
       "8064"
      ]
     },
     "execution_count": 15,
     "metadata": {},
     "output_type": "execute_result"
    }
   ],
   "source": [
    "totient(17576)"
   ]
  },
  {
   "cell_type": "code",
   "execution_count": 16,
   "metadata": {},
   "outputs": [
    {
     "data": {
      "text/plain": [
       "141732864"
      ]
     },
     "execution_count": 16,
     "metadata": {},
     "output_type": "execute_result"
    }
   ],
   "source": [
    "8064 * 17576"
   ]
  },
  {
   "cell_type": "code",
   "execution_count": 17,
   "metadata": {
    "collapsed": true
   },
   "outputs": [],
   "source": [
    "def strip(text):\n",
    "    translator = str.maketrans('', '', string.punctuation)\n",
    "    modified_text = text.translate(translator)\n",
    "    modified_text = ''.join(modified_text.split())\n",
    "    return modified_text"
   ]
  },
  {
   "cell_type": "code",
   "execution_count": 36,
   "metadata": {
    "collapsed": true
   },
   "outputs": [],
   "source": [
    "def key_length_vigenere(ciphertext):\n",
    "    #Assumes the input consists ENTIRELY of elements of Z_26\n",
    "    key_length = 1\n",
    "    for t in range(26):\n",
    "        current_ioc = 0\n",
    "        for i in range(len(ciphertext)):\n",
    "            if ciphertext[i] == ciphertext[(i + key_length) % len(ciphertext)]:\n",
    "                current_ioc += 1\n",
    "        print(current_ioc, ' IOC with key length ', key_length)\n",
    "        key_length += 1\n",
    "        if key_length > len(ciphertext):\n",
    "            break"
   ]
  },
  {
   "cell_type": "code",
   "execution_count": 37,
   "metadata": {},
   "outputs": [
    {
     "name": "stdout",
     "output_type": "stream",
     "text": [
      "5  IOC with key length  1\n",
      "22  IOC with key length  2\n",
      "21  IOC with key length  3\n",
      "19  IOC with key length  4\n",
      "16  IOC with key length  5\n",
      "23  IOC with key length  6\n",
      "18  IOC with key length  7\n",
      "12  IOC with key length  8\n",
      "32  IOC with key length  9\n",
      "12  IOC with key length  10\n",
      "22  IOC with key length  11\n",
      "24  IOC with key length  12\n",
      "22  IOC with key length  13\n",
      "15  IOC with key length  14\n",
      "32  IOC with key length  15\n",
      "22  IOC with key length  16\n",
      "21  IOC with key length  17\n",
      "33  IOC with key length  18\n",
      "13  IOC with key length  19\n",
      "15  IOC with key length  20\n",
      "32  IOC with key length  21\n",
      "21  IOC with key length  22\n",
      "16  IOC with key length  23\n",
      "54  IOC with key length  24\n",
      "18  IOC with key length  25\n",
      "16  IOC with key length  26\n"
     ]
    }
   ],
   "source": [
    "key_length_vigenere(strip(ciphertext))"
   ]
  },
  {
   "cell_type": "markdown",
   "metadata": {},
   "source": [
    "Possible key length seems to be <b>9</b>"
   ]
  },
  {
   "cell_type": "code",
   "execution_count": 40,
   "metadata": {
    "collapsed": true
   },
   "outputs": [],
   "source": [
    "#Extracts the frequent letter(s) in a ciphertext (allows at most 5 distinct letters to have the max frequency)\n",
    "def get_frequents(ciphertext):\n",
    "    #Assuming the plaintext language is English and the ciphertext length\n",
    "    #is long enough, the most common letter should be E, T, A or O\n",
    "    ciphertext = ''.join(ciphertext.split())\n",
    "    ctr = collections.Counter(ciphertext)\n",
    "    max_occurence = ctr.most_common(1)[0][1]\n",
    "    max_occured = ctr.most_common(5)\n",
    "    max_chars = []\n",
    "    if max_occured[0][1] == max_occured[4][1]:\n",
    "        print('5 ELEMENTS HAVE MAX OCCURENCE!')\n",
    "    else:\n",
    "       \n",
    "        for i in range(len(max_occured)):\n",
    "            if max_occured[i][1] == max_occurence:\n",
    "                max_chars.append(max_occured[i][0])\n",
    "            else:\n",
    "                break\n",
    "    return max_chars"
   ]
  },
  {
   "cell_type": "code",
   "execution_count": 41,
   "metadata": {
    "collapsed": true
   },
   "outputs": [],
   "source": [
    "def frequency_analysis(ciphertext, index):\n",
    "    frequent_letters = get_frequents(ciphertext)\n",
    "    return frequent_letters"
   ]
  },
  {
   "cell_type": "code",
   "execution_count": 52,
   "metadata": {
    "collapsed": true
   },
   "outputs": [],
   "source": [
    "def reduce_vigenere2caesar(ciphertext):\n",
    "    ciphertext = strip(ciphertext)\n",
    "    key_len = 9 # by our previous result\n",
    "    substrings = []\n",
    "    for k_i in range(key_len):\n",
    "        text_iter = k_i\n",
    "        sub_group = \"\"\n",
    "        while text_iter < len(ciphertext):\n",
    "            sub_group += ciphertext[text_iter]\n",
    "            text_iter += key_len\n",
    "        substrings.append(sub_group)\n",
    "    return substrings"
   ]
  },
  {
   "cell_type": "code",
   "execution_count": 53,
   "metadata": {},
   "outputs": [
    {
     "name": "stdout",
     "output_type": "stream",
     "text": [
      "['OKAGWAMFLJZAKLMLLLKOGRWNZAJKSWKFGOQGLJSHHGAWWKJ', 'PBBEQTOWWMQTVTAYWIMMLMLMMDVIAQBTCMEEPMZJZSTNXBM', 'ATTTEXTFBFEXAQFGBRZQEZMZKQQEWEMKZQUZQXWGAQQAMAU', 'KWAAASZKHGOMOZLWOSWFSDJAWKKZAKCGVHFQOGSLEWKJFYK', 'MAVAVOMMQEWXUWPMQZIBVISVIPAINWMBAWLNWDVQQXBMLWT', 'IQWTFQIQZMAIKDUDFYDTPWQSDUNWFYFTFRMXAQPTEMAUYNQ', 'GSAGZLAEYLVADKFLZZTWXWKGZKWWZWZWZWFSVDVSWFYKAWW', 'WZSCMPTMPKABQMSWWWMEZBBNMPTBMUMZMILSAGMDALWTTNX', 'PQZEHAXEQTRTFYUEGGFAATQFSMXADUAEEEPQMPQQFYNQQA']\n"
     ]
    }
   ],
   "source": [
    "substrings = reduce_vigenere2caesar(ciphertext)\n",
    "print(substrings)"
   ]
  },
  {
   "cell_type": "code",
   "execution_count": 54,
   "metadata": {},
   "outputs": [
    {
     "name": "stdout",
     "output_type": "stream",
     "text": [
      "['G', 'H']\n",
      "['I']\n",
      "['M']\n",
      "['G']\n",
      "['I', 'S']\n",
      "['M']\n",
      "['S']\n",
      "['I']\n",
      "['M']\n"
     ]
    }
   ],
   "source": [
    "for i in range(len(substrings)):\n",
    "    a = frequency_analysis(substrings[i], 0)\n",
    "    a = map(lambda x: chr(((encoding_table[x] - 4) % 26) + 65), a) # assumes most frequent letter in P is 'E'\n",
    "    print(list(a))"
   ]
  },
  {
   "cell_type": "markdown",
   "metadata": {},
   "source": [
    "The key seems to be one of the following:\n",
    "- GIMGIMSIM\n",
    "- HIMGIMSIM\n",
    "- GIMGSMSIM\n",
    "- HIMGSMSIM"
   ]
  },
  {
   "cell_type": "code",
   "execution_count": 47,
   "metadata": {},
   "outputs": [
    {
     "name": "stdout",
     "output_type": "stream",
     "text": [
      "IHOEE WOODE THQSE ARE U THUNK I KNAW.\n",
      "HUS HOUSQ IS UN THE VULLMGE, THOGGH;\n",
      "TE WILL ZOT EEE ME SFOPBING HEDE\n",
      "TA WATCH TIS IOODS FULL GP WITH ENOI.\n",
      "\n",
      "MY LITFLE TORSE MGST FHINK IF QUQER\n",
      "TO SFOP IITHOUF A FMRMHOUEE NQAR\n",
      "BETIEEZ THE WOADS MND FROLEN XAKE\n",
      "THQ DADKEST EHENUNG OF TTE YQAR.\n",
      "\n",
      "HE GUVEE HIS HADNEES BELLE A STAKE\n",
      "TO MSK UF THERQ IS EOME MIETAWE.\n",
      "THE OZLY ATHER SAUNP'S THE SIEEB\n",
      "OF EASK WIZD AND DAWNK FLAKE.\n",
      "\n",
      "FHE IOODS ADE LAVELY, DMRK MND DEEB,\n",
      "BUF I HAVE BROYISES TA KEQP,\n",
      "AND MULEE TO GO BQFODE I SLEQP,\n",
      "AZD MILEE TO SO BEFODE I ELEEP.\n"
     ]
    }
   ],
   "source": [
    "print(decrypt_vigenere(ciphertext, \"GIMGIMSIM\"))"
   ]
  },
  {
   "cell_type": "markdown",
   "metadata": {
    "collapsed": true
   },
   "source": [
    "Most part of the text seems to be decrypted correctly, however none of the possible 4 keys listed above provide a full solution. Then -considering the repeating pattern in the possible key- I suspect that the key length might be different than 9. For example, GIMGIMSIM seems to be repeating in every 3 letters (except one, of course). Trying \"SIM\" as the key seems to work!"
   ]
  },
  {
   "cell_type": "code",
   "execution_count": 48,
   "metadata": {},
   "outputs": [
    {
     "name": "stdout",
     "output_type": "stream",
     "text": [
      "WHOSE WOODS THESE ARE I THINK I KNOW.\n",
      "HIS HOUSE IS IN THE VILLAGE, THOUGH;\n",
      "HE WILL NOT SEE ME STOPPING HERE\n",
      "TO WATCH HIS WOODS FILL UP WITH SNOW.\n",
      "\n",
      "MY LITTLE HORSE MUST THINK IT QUEER\n",
      "TO STOP WITHOUT A FARMHOUSE NEAR\n",
      "BETWEEN THE WOODS AND FROZEN LAKE\n",
      "THE DARKEST EVENING OF THE YEAR.\n",
      "\n",
      "HE GIVES HIS HARNESS BELLS A SHAKE\n",
      "TO ASK IF THERE IS SOME MISTAKE.\n",
      "THE ONLY OTHER SOUND'S THE SWEEP\n",
      "OF EASY WIND AND DOWNY FLAKE.\n",
      "\n",
      "THE WOODS ARE LOVELY, DARK AND DEEP,\n",
      "BUT I HAVE PROMISES TO KEEP,\n",
      "AND MILES TO GO BEFORE I SLEEP,\n",
      "AND MILES TO GO BEFORE I SLEEP.\n"
     ]
    }
   ],
   "source": [
    "print(decrypt_vigenere(ciphertext, \"SIM\"))"
   ]
  },
  {
   "cell_type": "markdown",
   "metadata": {},
   "source": [
    "It seems that by setting the key length 9, I caused the key to repeat itself. By setting the key_len variable to 3 in reduce_vigenere2caesar(), we can indeed get the true key, \"SIM\". In the end, key is \"SIM\" and its length is 3"
   ]
  },
  {
   "cell_type": "code",
   "execution_count": null,
   "metadata": {
    "collapsed": true
   },
   "outputs": [],
   "source": []
  }
 ],
 "metadata": {
  "kernelspec": {
   "display_name": "Python 3",
   "language": "python",
   "name": "python3"
  },
  "language_info": {
   "codemirror_mode": {
    "name": "ipython",
    "version": 3
   },
   "file_extension": ".py",
   "mimetype": "text/x-python",
   "name": "python",
   "nbconvert_exporter": "python",
   "pygments_lexer": "ipython3",
   "version": "3.6.0"
  }
 },
 "nbformat": 4,
 "nbformat_minor": 2
}
